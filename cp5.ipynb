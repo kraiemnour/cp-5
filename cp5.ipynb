{
 "cells": [
  {
   "cell_type": "code",
   "execution_count": 11,
   "id": "9f34a206",
   "metadata": {},
   "outputs": [
    {
     "data": {
      "text/plain": [
       "array([1, 2, 3])"
      ]
     },
     "execution_count": 11,
     "metadata": {},
     "output_type": "execute_result"
    }
   ],
   "source": [
    "import numpy as np \n",
    "a= np.array ([1,2,3])\n",
    "a \n",
    "#quest1"
   ]
  },
  {
   "cell_type": "code",
   "execution_count": 12,
   "id": "6ac641dd",
   "metadata": {},
   "outputs": [
    {
     "name": "stdout",
     "output_type": "stream",
     "text": [
      " Original array :\n",
      "[[ 0 10 20]\n",
      " [30 40 50]]\n",
      " value bigger than 10 = [20 30 40 50]\n"
     ]
    }
   ],
   "source": [
    "import numpy \n",
    "a= np.array ([[ 0, 10, 20], [30, 40, 50]])\n",
    "print (\" Original array :\")\n",
    "print (a)\n",
    "y=10\n",
    "print (\" value bigger than 10 =\", a [ a>y])\n",
    "#quest2"
   ]
  },
  {
   "cell_type": "code",
   "execution_count": 6,
   "id": "e1a655eb",
   "metadata": {},
   "outputs": [
    {
     "name": "stdout",
     "output_type": "stream",
     "text": [
      "[[ 7.4]\n",
      " [15.8]]\n"
     ]
    }
   ],
   "source": [
    "import numpy \n",
    "a= np.array ([[3.7], [7.9]],dtype = np.float64)\n",
    "b=  np.array ([[3.7], [7.9]],dtype = np.float64)\n",
    "z= a+b \n",
    "print (z) \n",
    "#quest4"
   ]
  },
  {
   "cell_type": "code",
   "execution_count": 9,
   "id": "d249f049",
   "metadata": {},
   "outputs": [
    {
     "name": "stdout",
     "output_type": "stream",
     "text": [
      "<class 'numpy.ndarray'>\n",
      "[[9 8 2]\n",
      " [4 6 3]]\n",
      "4\n",
      "9\n",
      "8\n",
      "6\n"
     ]
    }
   ],
   "source": [
    "array1= np.array ([[9, 8, 2 ], [4,6,3]])\n",
    "print (type(array1))\n",
    "print ( array1)\n",
    "x1= int(input())\n",
    "for x in array1 : \n",
    "    for y in x : \n",
    "        if x1<y:\n",
    "            print (y, end= \"\\n\")\n",
    "#quest3"
   ]
  },
  {
   "cell_type": "code",
   "execution_count": 10,
   "id": "00ba73ac",
   "metadata": {},
   "outputs": [
    {
     "name": "stdout",
     "output_type": "stream",
     "text": [
      "[[ 0.18474214 -0.13158729  0.24872013  0.23555271 -0.25023629  0.24450776\n",
      "  -0.43707282  0.29513956 -0.15518512 -0.23458078]\n",
      " [-0.34409636  0.10981851 -0.13767469  0.32613589  0.00757863 -0.23831019\n",
      "  -0.31554128  0.24536103  0.57436243 -0.22763396]\n",
      " [-0.24118066  0.64168174 -0.31486504  0.29321471 -0.28264879  0.5971745\n",
      "  -0.03171721 -0.29849549 -0.23178689 -0.13137687]\n",
      " [ 0.26074639 -0.05508052  0.0730465  -0.4775745  -0.10072578  0.00082687\n",
      "   0.48593998 -0.43215482  0.05743218  0.1875437 ]\n",
      " [ 0.01241366 -0.30898705  0.25970467 -0.02850821  0.17198797 -0.1678599\n",
      "  -0.16528011 -0.12951559  0.14293819  0.21310637]]\n"
     ]
    }
   ],
   "source": [
    "import numpy \n",
    "x= np.random.rand (5,10)\n",
    "y = x-x.mean ( axis=1, keepdims= True )\n",
    "print (y)\n",
    "#quest5"
   ]
  },
  {
   "cell_type": "code",
   "execution_count": null,
   "id": "8bf67eed",
   "metadata": {},
   "outputs": [],
   "source": []
  }
 ],
 "metadata": {
  "kernelspec": {
   "display_name": "Python 3",
   "language": "python",
   "name": "python3"
  },
  "language_info": {
   "codemirror_mode": {
    "name": "ipython",
    "version": 3
   },
   "file_extension": ".py",
   "mimetype": "text/x-python",
   "name": "python",
   "nbconvert_exporter": "python",
   "pygments_lexer": "ipython3",
   "version": "3.8.8"
  }
 },
 "nbformat": 4,
 "nbformat_minor": 5
}
